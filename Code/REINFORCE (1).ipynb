{
  "nbformat": 4,
  "nbformat_minor": 0,
  "metadata": {
    "colab": {
      "provenance": []
    },
    "kernelspec": {
      "name": "python3",
      "display_name": "Python 3"
    },
    "language_info": {
      "name": "python"
    }
  },
  "cells": [
    {
      "cell_type": "code",
      "source": [
        "!pip install wandb --quiet\n",
        "!pip install swig --quiet\n",
        "!pip install gym[all] --quiet\n",
        "!pip install pygame --quiet"
      ],
      "metadata": {
        "id": "bTN2O3ujWQKP",
        "outputId": "b7b94cb1-c0e8-47cb-f6e4-a5fd53ade52f",
        "colab": {
          "base_uri": "https://localhost:8080/"
        }
      },
      "execution_count": 9,
      "outputs": [
        {
          "output_type": "stream",
          "name": "stdout",
          "text": [
            "\u001b[2K     \u001b[90m━━━━━━━━━━━━━━━━━━━━━━━━━━━━━━━━━━━━━━━━\u001b[0m \u001b[32m2.2/2.2 MB\u001b[0m \u001b[31m8.9 MB/s\u001b[0m eta \u001b[36m0:00:00\u001b[0m\n",
            "\u001b[2K     \u001b[90m━━━━━━━━━━━━━━━━━━━━━━━━━━━━━━━━━━━━━━━━\u001b[0m \u001b[32m207.3/207.3 kB\u001b[0m \u001b[31m15.2 MB/s\u001b[0m eta \u001b[36m0:00:00\u001b[0m\n",
            "\u001b[2K     \u001b[90m━━━━━━━━━━━━━━━━━━━━━━━━━━━━━━━━━━━━━━━━\u001b[0m \u001b[32m266.8/266.8 kB\u001b[0m \u001b[31m19.2 MB/s\u001b[0m eta \u001b[36m0:00:00\u001b[0m\n",
            "\u001b[2K     \u001b[90m━━━━━━━━━━━━━━━━━━━━━━━━━━━━━━━━━━━━━━━━\u001b[0m \u001b[32m62.7/62.7 kB\u001b[0m \u001b[31m5.8 MB/s\u001b[0m eta \u001b[36m0:00:00\u001b[0m\n",
            "\u001b[2K     \u001b[90m━━━━━━━━━━━━━━━━━━━━━━━━━━━━━━━━━━━━━━━━\u001b[0m \u001b[32m1.9/1.9 MB\u001b[0m \u001b[31m8.5 MB/s\u001b[0m eta \u001b[36m0:00:00\u001b[0m\n",
            "\u001b[2K     \u001b[90m━━━━━━━━━━━━━━━━━━━━━━━━━━━━━━━━━━━━━━━━\u001b[0m \u001b[32m3.6/3.6 MB\u001b[0m \u001b[31m14.7 MB/s\u001b[0m eta \u001b[36m0:00:00\u001b[0m\n",
            "\u001b[2K     \u001b[90m━━━━━━━━━━━━━━━━━━━━━━━━━━━━━━━━━━━━━━━━\u001b[0m \u001b[32m1.6/1.6 MB\u001b[0m \u001b[31m63.0 MB/s\u001b[0m eta \u001b[36m0:00:00\u001b[0m\n",
            "\u001b[2K     \u001b[90m━━━━━━━━━━━━━━━━━━━━━━━━━━━━━━━━━━━━━━━━\u001b[0m \u001b[32m18.3/18.3 MB\u001b[0m \u001b[31m30.5 MB/s\u001b[0m eta \u001b[36m0:00:00\u001b[0m\n",
            "\u001b[2K     \u001b[90m━━━━━━━━━━━━━━━━━━━━━━━━━━━━━━━━━━━━━━━━\u001b[0m \u001b[32m2.4/2.4 MB\u001b[0m \u001b[31m59.4 MB/s\u001b[0m eta \u001b[36m0:00:00\u001b[0m\n",
            "\u001b[2K     \u001b[90m━━━━━━━━━━━━━━━━━━━━━━━━━━━━━━━━━━━━━━━━\u001b[0m \u001b[32m374.4/374.4 kB\u001b[0m \u001b[31m25.5 MB/s\u001b[0m eta \u001b[36m0:00:00\u001b[0m\n",
            "\u001b[?25h  Preparing metadata (setup.py) ... \u001b[?25l\u001b[?25hdone\n",
            "\u001b[2K     \u001b[90m━━━━━━━━━━━━━━━━━━━━━━━━━━━━━━━━━━━━━━━━\u001b[0m \u001b[32m297.0/297.0 kB\u001b[0m \u001b[31m16.8 MB/s\u001b[0m eta \u001b[36m0:00:00\u001b[0m\n",
            "\u001b[2K     \u001b[90m━━━━━━━━━━━━━━━━━━━━━━━━━━━━━━━━━━━━━━━━\u001b[0m \u001b[32m1.3/1.3 MB\u001b[0m \u001b[31m39.9 MB/s\u001b[0m eta \u001b[36m0:00:00\u001b[0m\n",
            "\u001b[2K     \u001b[90m━━━━━━━━━━━━━━━━━━━━━━━━━━━━━━━━━━━━━━━━\u001b[0m \u001b[32m211.8/211.8 kB\u001b[0m \u001b[31m17.1 MB/s\u001b[0m eta \u001b[36m0:00:00\u001b[0m\n",
            "\u001b[2K     \u001b[90m━━━━━━━━━━━━━━━━━━━━━━━━━━━━━━━━━━━━━━━━\u001b[0m \u001b[32m98.7/98.7 kB\u001b[0m \u001b[31m9.1 MB/s\u001b[0m eta \u001b[36m0:00:00\u001b[0m\n",
            "\u001b[?25h  Building wheel for box2d-py (setup.py) ... \u001b[?25l\u001b[?25hdone\n"
          ]
        }
      ]
    },
    {
      "cell_type": "code",
      "source": [
        "import gym\n",
        "import numpy as np\n",
        "import torch\n",
        "import random\n",
        "import math\n",
        "import matplotlib.pyplot as plt\n",
        "import torch.nn as nn\n",
        "import torch.optim as optim\n",
        "from torch.distributions import Categorical"
      ],
      "metadata": {
        "id": "uvfBaIKoS1uW"
      },
      "execution_count": 10,
      "outputs": []
    },
    {
      "cell_type": "code",
      "source": [
        "# Define a simple policy network\n",
        "class PolicyNetwork(nn.Module):\n",
        "    def __init__(self, input_dim, hidden_dim, output_dim, gamma=0.99, lr=0.001):\n",
        "        super(PolicyNetwork, self).__init__()\n",
        "        self.lr = lr\n",
        "        self.gamma = gamma\n",
        "        self.l1 = nn.Linear(input_dim, hidden_dim)\n",
        "        self.l2 = nn.Linear(hidden_dim, output_dim)\n",
        "        self.optimizer = optim.Adam(self.parameters(),lr=self.lr)\n",
        "\n",
        "    def forward(self, x):\n",
        "        x = torch.relu(self.l1(x))\n",
        "        x = self.l2(x)\n",
        "        return torch.softmax(x, dim=-1)"
      ],
      "metadata": {
        "id": "2p8HpCupS5zk",
        "outputId": "0d9eab43-8af3-4a0d-caad-996e10ce9b38",
        "colab": {
          "base_uri": "https://localhost:8080/"
        }
      },
      "execution_count": 2,
      "outputs": [
        {
          "output_type": "stream",
          "name": "stderr",
          "text": [
            "/usr/local/lib/python3.10/dist-packages/ipykernel/ipkernel.py:283: DeprecationWarning: `should_run_async` will not call `transform_cell` automatically in the future. Please pass the result to `transformed_cell` argument and any exception that happen during thetransform in `preprocessing_exc_tuple` in IPython 7.17 and above.\n",
            "  and should_run_async(code)\n"
          ]
        }
      ]
    },
    {
      "cell_type": "code",
      "source": [
        "# Function to collect trajectories\n",
        "def collect_trajectories(policy_network, env):\n",
        "    trajectories = []\n",
        "    total_reward = 0\n",
        "    timesteps = 0\n",
        "    episode = {'states': [], 'actions': [], 'rewards': []}\n",
        "    state = env.reset()\n",
        "    done = False\n",
        "    while not done:\n",
        "      timesteps += 1\n",
        "      state = torch.tensor(state, dtype=torch.float32)\n",
        "      action_probs = policy_network(state)\n",
        "      action_dist = Categorical(action_probs)\n",
        "      action = action_dist.sample()\n",
        "      next_state, reward, done, _ = env.step(action.item())\n",
        "      total_reward += reward\n",
        "      timesteps += 1\n",
        "      episode['states'].append(state)\n",
        "      episode['actions'].append(action)\n",
        "      episode['rewards'].append(reward)\n",
        "      state = next_state\n",
        "    #print(\"Reward: {}\".format(total_reward))\n",
        "\n",
        "    trajectories.append(episode)\n",
        "    return trajectories, total_reward, timesteps  #returns total reward and timesteps per episode"
      ],
      "metadata": {
        "id": "_gtBimQbS7AF"
      },
      "execution_count": 3,
      "outputs": []
    },
    {
      "cell_type": "code",
      "source": [
        "# Function to compute discounted rewards\n",
        "def compute_discounted_rewards(rewards, gamma):\n",
        "    discounted_rewards = []\n",
        "    running_add = 0\n",
        "    for r in reversed(rewards):\n",
        "        running_add = running_add * gamma + r\n",
        "        discounted_rewards.insert(0, running_add)\n",
        "    return discounted_rewards"
      ],
      "metadata": {
        "id": "PCNLoS3gS9gr"
      },
      "execution_count": 4,
      "outputs": []
    },
    {
      "cell_type": "code",
      "source": [
        "# Function to update the policy network\n",
        "def update_with_baseline(policy_network, trajectories, gamma):\n",
        "    for episode in trajectories:\n",
        "        loss = 0\n",
        "        discounted_rewards = compute_discounted_rewards(episode['rewards'], gamma)\n",
        "        baseline = np.mean(discounted_rewards)\n",
        "        for state, action, dr in zip(episode['states'], episode['actions'], discounted_rewards):\n",
        "            action_probs = policy_network(state)\n",
        "            action_dist = Categorical(action_probs)\n",
        "            log_prob = action_dist.log_prob(action)\n",
        "            advantage = dr - baseline\n",
        "            loss -= log_prob * advantage\n",
        "\n",
        "            #loss -= log_prob * dr\n",
        "        #total_loss = loss / len(trajectories)\n",
        "        policy_network.optimizer.zero_grad()\n",
        "        loss.backward()\n",
        "        policy_network.optimizer.step()"
      ],
      "metadata": {
        "id": "LjoiF0GlTATp"
      },
      "execution_count": 5,
      "outputs": []
    },
    {
      "cell_type": "code",
      "source": [
        "def update_without_baseline(policy_network, trajectories, gamma):\n",
        "    for episode in trajectories:\n",
        "        loss = 0\n",
        "        discounted_rewards = compute_discounted_rewards(episode['rewards'], gamma)\n",
        "        #baseline = np.mean(discounted_rewards)\n",
        "        for state, action, dr in zip(episode['states'], episode['actions'], discounted_rewards):\n",
        "            action_probs = policy_network(state)\n",
        "            action_dist = Categorical(action_probs)\n",
        "            log_prob = action_dist.log_prob(action)\n",
        "            #advantage = dr - baseline\n",
        "            loss -= log_prob * dr\n",
        "\n",
        "            #loss -= log_prob * dr\n",
        "        #total_loss = loss / len(trajectories)\n",
        "        policy_network.optimizer.zero_grad()\n",
        "        loss.backward()\n",
        "        policy_network.optimizer.step()"
      ],
      "metadata": {
        "id": "FMy397iOTBvH"
      },
      "execution_count": 6,
      "outputs": []
    },
    {
      "cell_type": "code",
      "source": [
        "# Main function for training\n",
        "def train():\n",
        "    # Set up environment\n",
        "    random.seed(350)\n",
        "    env = gym.make('LunarLander-v2')\n",
        "    input_dim = env.observation_space.shape[0]\n",
        "    output_dim = env.action_space.n\n",
        "    hidden_dim = 256\n",
        "    # Hyperparameters\n",
        "    n_episodes = 100\n",
        "    episode_array = [i for i in range(1,n_episodes+1)]\n",
        "    gamma = 0.99\n",
        "    target_update = 10\n",
        "\n",
        "    policy_network_1 = PolicyNetwork(input_dim, hidden_dim, output_dim, lr=0.001)\n",
        "    rewards_array_1 = []\n",
        "    timesteps_1 = []\n",
        "    mean_rewards_list_1 = []\n",
        "    #batch_size = 20\n",
        "    #print(\"{}\".format(math.floor(n_episodes/batch_size)))\n",
        "     # Training loop\n",
        "    for episode in range(n_episodes):\n",
        "        #print(\"episode: {}\".format((episode+1) * (n_episodes/batch_size) ))\n",
        "        trajectories, rewards, timesteps = collect_trajectories(policy_network_1, env)\n",
        "        update_without_baseline(policy_network_1, trajectories, gamma)\n",
        "        timesteps_1.append(timesteps)\n",
        "        rewards_array_1.append(rewards)\n",
        "        #trajectories_1.extend(trajectories)\n",
        "\n",
        "        #print(\"Episode {}: Total Reward: {:.2f} Timesteps: {}\".format(episode + 1, rewards, timesteps))\n",
        "        if episode % target_update == 0:\n",
        "            reward = np.mean(rewards_array_1[episode-10:episode])\n",
        "            print(\"Episode:{}\".format(episode))\n",
        "            print(\"Mean Reward:{}\".format(reward))\n",
        "            episode_array.append(episode)\n",
        "            mean_rewards_list_1.append(reward)\n",
        "\n",
        "\n",
        "    policy_network_2 = PolicyNetwork(input_dim, hidden_dim, output_dim, lr=0.01)\n",
        "    rewards_array_2 = []\n",
        "    timesteps_2 = []\n",
        "    mean_rewards_list_2 = []\n",
        "    for episode in range(n_episodes):\n",
        "        #print(\"episode: {}\".format((episode+1) * (n_episodes/batch_size) ))\n",
        "        trajectories, rewards, timesteps = collect_trajectories(policy_network_2, env)\n",
        "        update_without_baseline(policy_network_2, trajectories, gamma)\n",
        "        timesteps_2.append(timesteps)\n",
        "        rewards_array_2.append(rewards)\n",
        "        #trajectories_1.extend(trajectories)\n",
        "\n",
        "       # print(\"Episode {}: Total Reward: {:.2f} Timesteps: {}\".format(episode + 1, rewards, timesteps))\n",
        "        if episode % target_update == 0:\n",
        "            reward = np.mean(rewards_array_2[episode-10:episode])\n",
        "            print(\"Episode:{}\".format(episode))\n",
        "            print(\"Mean Reward:{}\".format(reward))\n",
        "            episode_array.append(episode)\n",
        "            mean_rewards_list_2.append(reward)\n",
        "\n",
        "\n",
        "    policy_network_3 = PolicyNetwork(input_dim,hidden_dim, output_dim, lr=0.1)\n",
        "    rewards_array_3 = []\n",
        "    timesteps_3 = []\n",
        "    mean_rewards_list_3 = []\n",
        "    for episode in range(n_episodes):\n",
        "        #print(\"episode: {}\".format((episode+1) * (n_episodes/batch_size) ))\n",
        "        trajectories, rewards, timesteps = collect_trajectories(policy_network_3, env)\n",
        "        update_without_baseline(policy_network_3, trajectories, gamma)\n",
        "        timesteps_3.append(timesteps)\n",
        "        rewards_array_3.append(rewards)\n",
        "        #trajectories_1.extend(trajectories)\n",
        "\n",
        "        #print(\"Episode {}: Total Reward: {:.2f} Timesteps: {}\".format(episode + 1, rewards, timesteps))\n",
        "        if episode % target_update == 0:\n",
        "            reward = np.mean(rewards_array_3[episode-10:episode])\n",
        "            print(\"Episode:{}\".format(episode))\n",
        "            print(\"Mean Reward:{}\".format(reward))\n",
        "            episode_array.append(episode)\n",
        "            mean_rewards_list_3.append(reward)\n",
        "\n",
        "    plt.title(\"Performance of REINFORCE in Lunar Lander\")\n",
        "    plt.plot(episode_array, rewards_array_1, label = \"lr = 0.001\")\n",
        "    plt.plot(episode_array, rewards_array_2, label = \"lr = 0.01\")\n",
        "    plt.plot(episode_array, rewards_array_3, label = \"lr = 0.1\")\n",
        "    plt.xlabel(\"Episodes\")\n",
        "    plt.ylabel(\"Rewards\")\n",
        "    plt.legend()\n",
        "    plt.show()\n",
        "\n",
        "    plt.title(\"Performance of REINFORCE in Lunar Lander\")\n",
        "    plt.plot(episode_array, mean_rewards_list_1, label = \"lr = 0.001\")\n",
        "    plt.plot(episode_array, mean_rewards_list_2, label = \"lr = 0.01\")\n",
        "    plt.plot(episode_array, mean_rewards_list_3, label = \"lr = 0.1\")\n",
        "    plt.xlabel(\"Episodes\")\n",
        "    plt.ylabel(\"Rewards\")\n",
        "    plt.legend()\n",
        "    plt.show()\n",
        "\n",
        "    plt.title(\"Performance of REINFORCE in Lunar Lander\")\n",
        "    plt.plot(episode_array, timesteps_1, label = \"lr = 0.001\")\n",
        "    plt.plot(episode_array, timesteps_2, label = \"lr = 0.01\")\n",
        "    plt.plot(episode_array, timesteps_3, label = \"lr = 0.1\")\n",
        "    plt.xlabel(\"Episodes\")\n",
        "    plt.ylabel(\"Timesteps\")\n",
        "    plt.legend()\n",
        "    plt.show()\n",
        "\n",
        "    env.close()\n"
      ],
      "metadata": {
        "id": "zi27KnKxTD2e"
      },
      "execution_count": 14,
      "outputs": []
    },
    {
      "cell_type": "code",
      "execution_count": 15,
      "metadata": {
        "colab": {
          "base_uri": "https://localhost:8080/",
          "height": 1000
        },
        "id": "pxaJB_BWP97S",
        "outputId": "fcaf31d7-20c9-41d3-f2fa-04781efb226c"
      },
      "outputs": [
        {
          "output_type": "stream",
          "name": "stdout",
          "text": [
            "Episode:0\n",
            "Mean Reward:nan\n",
            "Episode:10\n",
            "Mean Reward:-159.95525953073079\n",
            "Episode:20\n",
            "Mean Reward:-218.13206001410973\n",
            "Episode:30\n",
            "Mean Reward:-358.7469252359992\n",
            "Episode:40\n",
            "Mean Reward:-243.66491695494386\n",
            "Episode:50\n",
            "Mean Reward:-182.347218782095\n",
            "Episode:60\n",
            "Mean Reward:-200.27870338240345\n",
            "Episode:70\n",
            "Mean Reward:-190.0321472062423\n",
            "Episode:80\n",
            "Mean Reward:-179.20830677351688\n",
            "Episode:90\n",
            "Mean Reward:-168.5781377469075\n",
            "Episode:0\n",
            "Mean Reward:nan\n",
            "Episode:10\n",
            "Mean Reward:-143.1061554482531\n",
            "Episode:20\n",
            "Mean Reward:-124.836122586373\n",
            "Episode:30\n",
            "Mean Reward:-129.98198267027718\n",
            "Episode:40\n",
            "Mean Reward:-134.11480866225182\n",
            "Episode:50\n",
            "Mean Reward:-147.21381301875198\n",
            "Episode:60\n",
            "Mean Reward:-154.97149169179528\n",
            "Episode:70\n",
            "Mean Reward:-124.86547624921081\n",
            "Episode:80\n",
            "Mean Reward:-130.10266012978485\n",
            "Episode:90\n",
            "Mean Reward:-113.25067314988264\n",
            "Episode:0\n",
            "Mean Reward:nan\n",
            "Episode:10\n",
            "Mean Reward:-427.8786357067446\n",
            "Episode:20\n",
            "Mean Reward:-816.3327128165122\n",
            "Episode:30\n",
            "Mean Reward:-1030.4476824603307\n",
            "Episode:40\n",
            "Mean Reward:-1148.495357824834\n",
            "Episode:50\n",
            "Mean Reward:-634.710871898488\n",
            "Episode:60\n",
            "Mean Reward:-794.4333950478797\n",
            "Episode:70\n",
            "Mean Reward:-991.286080826611\n",
            "Episode:80\n",
            "Mean Reward:-623.9375373617861\n",
            "Episode:90\n",
            "Mean Reward:-1072.4505223732856\n"
          ]
        },
        {
          "output_type": "error",
          "ename": "ValueError",
          "evalue": "x and y must have same first dimension, but have shapes (130,) and (100,)",
          "traceback": [
            "\u001b[0;31m---------------------------------------------------------------------------\u001b[0m",
            "\u001b[0;31mValueError\u001b[0m                                Traceback (most recent call last)",
            "\u001b[0;32m<ipython-input-15-afe2c43fe7fa>\u001b[0m in \u001b[0;36m<cell line: 2>\u001b[0;34m()\u001b[0m\n\u001b[1;32m      1\u001b[0m \u001b[0;31m# Run the training\u001b[0m\u001b[0;34m\u001b[0m\u001b[0;34m\u001b[0m\u001b[0m\n\u001b[0;32m----> 2\u001b[0;31m \u001b[0mtrain\u001b[0m\u001b[0;34m(\u001b[0m\u001b[0;34m)\u001b[0m\u001b[0;34m\u001b[0m\u001b[0;34m\u001b[0m\u001b[0m\n\u001b[0m",
            "\u001b[0;32m<ipython-input-14-14c8137bb6fc>\u001b[0m in \u001b[0;36mtrain\u001b[0;34m()\u001b[0m\n\u001b[1;32m     79\u001b[0m \u001b[0;34m\u001b[0m\u001b[0m\n\u001b[1;32m     80\u001b[0m     \u001b[0mplt\u001b[0m\u001b[0;34m.\u001b[0m\u001b[0mtitle\u001b[0m\u001b[0;34m(\u001b[0m\u001b[0;34m\"Performance of REINFORCE in Lunar Lander\"\u001b[0m\u001b[0;34m)\u001b[0m\u001b[0;34m\u001b[0m\u001b[0;34m\u001b[0m\u001b[0m\n\u001b[0;32m---> 81\u001b[0;31m     \u001b[0mplt\u001b[0m\u001b[0;34m.\u001b[0m\u001b[0mplot\u001b[0m\u001b[0;34m(\u001b[0m\u001b[0mepisode_array\u001b[0m\u001b[0;34m,\u001b[0m \u001b[0mrewards_array_1\u001b[0m\u001b[0;34m,\u001b[0m \u001b[0mlabel\u001b[0m \u001b[0;34m=\u001b[0m \u001b[0;34m\"lr = 0.001\"\u001b[0m\u001b[0;34m)\u001b[0m\u001b[0;34m\u001b[0m\u001b[0;34m\u001b[0m\u001b[0m\n\u001b[0m\u001b[1;32m     82\u001b[0m     \u001b[0mplt\u001b[0m\u001b[0;34m.\u001b[0m\u001b[0mplot\u001b[0m\u001b[0;34m(\u001b[0m\u001b[0mepisode_array\u001b[0m\u001b[0;34m,\u001b[0m \u001b[0mrewards_array_2\u001b[0m\u001b[0;34m,\u001b[0m \u001b[0mlabel\u001b[0m \u001b[0;34m=\u001b[0m \u001b[0;34m\"lr = 0.01\"\u001b[0m\u001b[0;34m)\u001b[0m\u001b[0;34m\u001b[0m\u001b[0;34m\u001b[0m\u001b[0m\n\u001b[1;32m     83\u001b[0m     \u001b[0mplt\u001b[0m\u001b[0;34m.\u001b[0m\u001b[0mplot\u001b[0m\u001b[0;34m(\u001b[0m\u001b[0mepisode_array\u001b[0m\u001b[0;34m,\u001b[0m \u001b[0mrewards_array_3\u001b[0m\u001b[0;34m,\u001b[0m \u001b[0mlabel\u001b[0m \u001b[0;34m=\u001b[0m \u001b[0;34m\"lr = 0.1\"\u001b[0m\u001b[0;34m)\u001b[0m\u001b[0;34m\u001b[0m\u001b[0;34m\u001b[0m\u001b[0m\n",
            "\u001b[0;32m/usr/local/lib/python3.10/dist-packages/matplotlib/pyplot.py\u001b[0m in \u001b[0;36mplot\u001b[0;34m(scalex, scaley, data, *args, **kwargs)\u001b[0m\n\u001b[1;32m   2810\u001b[0m \u001b[0;34m@\u001b[0m\u001b[0m_copy_docstring_and_deprecators\u001b[0m\u001b[0;34m(\u001b[0m\u001b[0mAxes\u001b[0m\u001b[0;34m.\u001b[0m\u001b[0mplot\u001b[0m\u001b[0;34m)\u001b[0m\u001b[0;34m\u001b[0m\u001b[0;34m\u001b[0m\u001b[0m\n\u001b[1;32m   2811\u001b[0m \u001b[0;32mdef\u001b[0m \u001b[0mplot\u001b[0m\u001b[0;34m(\u001b[0m\u001b[0;34m*\u001b[0m\u001b[0margs\u001b[0m\u001b[0;34m,\u001b[0m \u001b[0mscalex\u001b[0m\u001b[0;34m=\u001b[0m\u001b[0;32mTrue\u001b[0m\u001b[0;34m,\u001b[0m \u001b[0mscaley\u001b[0m\u001b[0;34m=\u001b[0m\u001b[0;32mTrue\u001b[0m\u001b[0;34m,\u001b[0m \u001b[0mdata\u001b[0m\u001b[0;34m=\u001b[0m\u001b[0;32mNone\u001b[0m\u001b[0;34m,\u001b[0m \u001b[0;34m**\u001b[0m\u001b[0mkwargs\u001b[0m\u001b[0;34m)\u001b[0m\u001b[0;34m:\u001b[0m\u001b[0;34m\u001b[0m\u001b[0;34m\u001b[0m\u001b[0m\n\u001b[0;32m-> 2812\u001b[0;31m     return gca().plot(\n\u001b[0m\u001b[1;32m   2813\u001b[0m         \u001b[0;34m*\u001b[0m\u001b[0margs\u001b[0m\u001b[0;34m,\u001b[0m \u001b[0mscalex\u001b[0m\u001b[0;34m=\u001b[0m\u001b[0mscalex\u001b[0m\u001b[0;34m,\u001b[0m \u001b[0mscaley\u001b[0m\u001b[0;34m=\u001b[0m\u001b[0mscaley\u001b[0m\u001b[0;34m,\u001b[0m\u001b[0;34m\u001b[0m\u001b[0;34m\u001b[0m\u001b[0m\n\u001b[1;32m   2814\u001b[0m         **({\"data\": data} if data is not None else {}), **kwargs)\n",
            "\u001b[0;32m/usr/local/lib/python3.10/dist-packages/matplotlib/axes/_axes.py\u001b[0m in \u001b[0;36mplot\u001b[0;34m(self, scalex, scaley, data, *args, **kwargs)\u001b[0m\n\u001b[1;32m   1686\u001b[0m         \"\"\"\n\u001b[1;32m   1687\u001b[0m         \u001b[0mkwargs\u001b[0m \u001b[0;34m=\u001b[0m \u001b[0mcbook\u001b[0m\u001b[0;34m.\u001b[0m\u001b[0mnormalize_kwargs\u001b[0m\u001b[0;34m(\u001b[0m\u001b[0mkwargs\u001b[0m\u001b[0;34m,\u001b[0m \u001b[0mmlines\u001b[0m\u001b[0;34m.\u001b[0m\u001b[0mLine2D\u001b[0m\u001b[0;34m)\u001b[0m\u001b[0;34m\u001b[0m\u001b[0;34m\u001b[0m\u001b[0m\n\u001b[0;32m-> 1688\u001b[0;31m         \u001b[0mlines\u001b[0m \u001b[0;34m=\u001b[0m \u001b[0;34m[\u001b[0m\u001b[0;34m*\u001b[0m\u001b[0mself\u001b[0m\u001b[0;34m.\u001b[0m\u001b[0m_get_lines\u001b[0m\u001b[0;34m(\u001b[0m\u001b[0;34m*\u001b[0m\u001b[0margs\u001b[0m\u001b[0;34m,\u001b[0m \u001b[0mdata\u001b[0m\u001b[0;34m=\u001b[0m\u001b[0mdata\u001b[0m\u001b[0;34m,\u001b[0m \u001b[0;34m**\u001b[0m\u001b[0mkwargs\u001b[0m\u001b[0;34m)\u001b[0m\u001b[0;34m]\u001b[0m\u001b[0;34m\u001b[0m\u001b[0;34m\u001b[0m\u001b[0m\n\u001b[0m\u001b[1;32m   1689\u001b[0m         \u001b[0;32mfor\u001b[0m \u001b[0mline\u001b[0m \u001b[0;32min\u001b[0m \u001b[0mlines\u001b[0m\u001b[0;34m:\u001b[0m\u001b[0;34m\u001b[0m\u001b[0;34m\u001b[0m\u001b[0m\n\u001b[1;32m   1690\u001b[0m             \u001b[0mself\u001b[0m\u001b[0;34m.\u001b[0m\u001b[0madd_line\u001b[0m\u001b[0;34m(\u001b[0m\u001b[0mline\u001b[0m\u001b[0;34m)\u001b[0m\u001b[0;34m\u001b[0m\u001b[0;34m\u001b[0m\u001b[0m\n",
            "\u001b[0;32m/usr/local/lib/python3.10/dist-packages/matplotlib/axes/_base.py\u001b[0m in \u001b[0;36m__call__\u001b[0;34m(self, data, *args, **kwargs)\u001b[0m\n\u001b[1;32m    309\u001b[0m                 \u001b[0mthis\u001b[0m \u001b[0;34m+=\u001b[0m \u001b[0margs\u001b[0m\u001b[0;34m[\u001b[0m\u001b[0;36m0\u001b[0m\u001b[0;34m]\u001b[0m\u001b[0;34m,\u001b[0m\u001b[0;34m\u001b[0m\u001b[0;34m\u001b[0m\u001b[0m\n\u001b[1;32m    310\u001b[0m                 \u001b[0margs\u001b[0m \u001b[0;34m=\u001b[0m \u001b[0margs\u001b[0m\u001b[0;34m[\u001b[0m\u001b[0;36m1\u001b[0m\u001b[0;34m:\u001b[0m\u001b[0;34m]\u001b[0m\u001b[0;34m\u001b[0m\u001b[0;34m\u001b[0m\u001b[0m\n\u001b[0;32m--> 311\u001b[0;31m             yield from self._plot_args(\n\u001b[0m\u001b[1;32m    312\u001b[0m                 this, kwargs, ambiguous_fmt_datakey=ambiguous_fmt_datakey)\n\u001b[1;32m    313\u001b[0m \u001b[0;34m\u001b[0m\u001b[0m\n",
            "\u001b[0;32m/usr/local/lib/python3.10/dist-packages/matplotlib/axes/_base.py\u001b[0m in \u001b[0;36m_plot_args\u001b[0;34m(self, tup, kwargs, return_kwargs, ambiguous_fmt_datakey)\u001b[0m\n\u001b[1;32m    502\u001b[0m \u001b[0;34m\u001b[0m\u001b[0m\n\u001b[1;32m    503\u001b[0m         \u001b[0;32mif\u001b[0m \u001b[0mx\u001b[0m\u001b[0;34m.\u001b[0m\u001b[0mshape\u001b[0m\u001b[0;34m[\u001b[0m\u001b[0;36m0\u001b[0m\u001b[0;34m]\u001b[0m \u001b[0;34m!=\u001b[0m \u001b[0my\u001b[0m\u001b[0;34m.\u001b[0m\u001b[0mshape\u001b[0m\u001b[0;34m[\u001b[0m\u001b[0;36m0\u001b[0m\u001b[0;34m]\u001b[0m\u001b[0;34m:\u001b[0m\u001b[0;34m\u001b[0m\u001b[0;34m\u001b[0m\u001b[0m\n\u001b[0;32m--> 504\u001b[0;31m             raise ValueError(f\"x and y must have same first dimension, but \"\n\u001b[0m\u001b[1;32m    505\u001b[0m                              f\"have shapes {x.shape} and {y.shape}\")\n\u001b[1;32m    506\u001b[0m         \u001b[0;32mif\u001b[0m \u001b[0mx\u001b[0m\u001b[0;34m.\u001b[0m\u001b[0mndim\u001b[0m \u001b[0;34m>\u001b[0m \u001b[0;36m2\u001b[0m \u001b[0;32mor\u001b[0m \u001b[0my\u001b[0m\u001b[0;34m.\u001b[0m\u001b[0mndim\u001b[0m \u001b[0;34m>\u001b[0m \u001b[0;36m2\u001b[0m\u001b[0;34m:\u001b[0m\u001b[0;34m\u001b[0m\u001b[0;34m\u001b[0m\u001b[0m\n",
            "\u001b[0;31mValueError\u001b[0m: x and y must have same first dimension, but have shapes (130,) and (100,)"
          ]
        },
        {
          "output_type": "display_data",
          "data": {
            "text/plain": [
              "<Figure size 640x480 with 1 Axes>"
            ],
            "image/png": "[encoded data removed]"
          },
          "metadata": {}
        }
      ],
      "source": [
        "# Run the training\n",
        "train()"
      ]
    }
  ]
}